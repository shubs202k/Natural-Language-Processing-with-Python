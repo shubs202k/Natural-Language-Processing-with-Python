{
 "cells": [
  {
   "cell_type": "markdown",
   "metadata": {},
   "source": [
    "Read Text in Data"
   ]
  },
  {
   "cell_type": "code",
   "execution_count": null,
   "metadata": {},
   "outputs": [],
   "source": [
    "import pandas as pd\n",
    "fullCorpus = pd.read_csv('SMSSpamCollection.tsv',sep = '\\t',header = None)\n",
    "fullCorpus.columns = ['label','body_text']\n",
    "fullCorpus.head()"
   ]
  },
  {
   "cell_type": "markdown",
   "metadata": {},
   "source": [
    "Exploring the Dataset"
   ]
  },
  {
   "cell_type": "code",
   "execution_count": null,
   "metadata": {},
   "outputs": [],
   "source": [
    "# Shape of Dataset\n",
    "print('Input data has {} rows and {} columns'.format(len(fullCorpus),\n",
    "                                                     len(fullCorpus.columns)))"
   ]
  },
  {
   "cell_type": "code",
   "execution_count": null,
   "metadata": {},
   "outputs": [],
   "source": [
    "# How many Ham/Spam\n",
    "print('Out of {} rows , {} are spam and {} are ham'.format(len(fullCorpus),\n",
    "                                                          len(fullCorpus[fullCorpus['label']== 'spam']),\n",
    "                                                          len(fullCorpus[fullCorpus['label']== 'ham'])))\n"
   ]
  },
  {
   "cell_type": "code",
   "execution_count": 8,
   "metadata": {},
   "outputs": [
    {
     "name": "stdout",
     "output_type": "stream",
     "text": [
      "Number of nulls in label : 0\n",
      "Number of nulls in body : 0\n"
     ]
    }
   ],
   "source": [
    "# How much missing data is there?\n",
    "# Will return how may nulls there are\n",
    "print('Number of nulls in label : {}'.format(fullCorpus['label'].isnull().sum()))\n",
    "print('Number of nulls in body : {}'.format(fullCorpus['body_text'].isnull().sum()))"
   ]
  }
 ],
 "metadata": {
  "kernelspec": {
   "display_name": "Python 3",
   "language": "python",
   "name": "python3"
  },
  "language_info": {
   "codemirror_mode": {
    "name": "ipython",
    "version": 3
   },
   "file_extension": ".py",
   "mimetype": "text/x-python",
   "name": "python",
   "nbconvert_exporter": "python",
   "pygments_lexer": "ipython3",
   "version": "3.7.1rc2"
  }
 },
 "nbformat": 4,
 "nbformat_minor": 2
}
