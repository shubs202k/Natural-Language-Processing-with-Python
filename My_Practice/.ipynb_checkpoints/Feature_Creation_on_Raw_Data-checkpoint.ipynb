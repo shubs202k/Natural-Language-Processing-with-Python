{
 "cells": [
  {
   "cell_type": "markdown",
   "metadata": {},
   "source": [
    "Feature Engineering : Feature Creation"
   ]
  },
  {
   "cell_type": "markdown",
   "metadata": {},
   "source": [
    "Read in Text"
   ]
  },
  {
   "cell_type": "code",
   "execution_count": null,
   "metadata": {},
   "outputs": [],
   "source": [
    "import pandas as pd\n",
    "\n",
    "data = pd.read_csv(\"SMSSpamCollection.tsv\", sep='\\t')\n",
    "data.columns = ['label', 'body_text']"
   ]
  },
  {
   "cell_type": "markdown",
   "metadata": {},
   "source": [
    "Create Feature for text message length"
   ]
  },
  {
   "cell_type": "code",
   "execution_count": null,
   "metadata": {},
   "outputs": [],
   "source": [
    "# Hypothesis : Spam Messages are longer than Text Messages\n",
    "# Length function also calulates white spaces\n",
    "data['body_len'] = data['body_text'].apply(lambda x:len(x) - x.count(\" \"))\n",
    "\n",
    "data.head()"
   ]
  },
  {
   "cell_type": "markdown",
   "metadata": {},
   "source": [
    "Create feature for % of text that is punctuation "
   ]
  },
  {
   "cell_type": "code",
   "execution_count": null,
   "metadata": {},
   "outputs": [],
   "source": [
    "# Hypothesis is that text messages has less punctuations\n",
    "import string\n",
    "\n",
    "def count_punct(text):\n",
    "    count = sum([1 for char in text if char in string.punctuation])\n",
    "    return round (count/(len(text) - text.count(\" \")),3) * 100\n",
    "\n",
    "data['punct%'] = data['body_text'].apply(lambda x : count_punct(x))\n",
    "\n",
    "data.head()"
   ]
  },
  {
   "cell_type": "markdown",
   "metadata": {},
   "source": [
    "Evaluating Created Features"
   ]
  },
  {
   "cell_type": "code",
   "execution_count": null,
   "metadata": {},
   "outputs": [],
   "source": [
    "# Evaluating/ Visualizing Length of Message Feature\n",
    "from matplotlib import pyplot\n",
    "import numpy as np\n",
    "%matplotlib inline\n",
    "\n",
    "\n",
    "bins = np.linspace(0,200,40)\n",
    "# Normed =True normalizes plot to the same scale\n",
    "pyplot.hist(data[data['label'] == 'spam']['body_len'],bins,alpha = 0.5,normed = True,label = 'spam')\n",
    "pyplot.hist(data[data['label'] == 'ham']['body_len'],bins,alpha = 0.5,normed = True,label = 'ham')\n",
    "pyplot.legend(loc = 'upper left')\n",
    "pyplot.show()"
   ]
  },
  {
   "cell_type": "code",
   "execution_count": null,
   "metadata": {},
   "outputs": [],
   "source": [
    "# Evaluating/ Visualizing Percentage of Punctuations in Message\n",
    "bins = np.linspace(0,50,40)\n",
    "# Normed =True normalizes plot to the same scale\n",
    "pyplot.hist(data[data['label'] == 'spam']['punct%'],bins,alpha = 0.5,normed = True,label = 'spam')\n",
    "pyplot.hist(data[data['label'] == 'ham']['punct%'],bins,alpha = 0.5,normed = True,label = 'ham')\n",
    "pyplot.legend(loc = 'upper right')\n",
    "pyplot.show()"
   ]
  },
  {
   "cell_type": "code",
   "execution_count": null,
   "metadata": {},
   "outputs": [],
   "source": []
  }
 ],
 "metadata": {
  "kernelspec": {
   "display_name": "Python 3",
   "language": "python",
   "name": "python3"
  },
  "language_info": {
   "codemirror_mode": {
    "name": "ipython",
    "version": 3
   },
   "file_extension": ".py",
   "mimetype": "text/x-python",
   "name": "python",
   "nbconvert_exporter": "python",
   "pygments_lexer": "ipython3",
   "version": "3.7.1rc2"
  }
 },
 "nbformat": 4,
 "nbformat_minor": 2
}
